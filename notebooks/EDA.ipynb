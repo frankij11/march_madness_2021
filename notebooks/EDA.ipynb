{
 "metadata": {
  "language_info": {
   "codemirror_mode": {
    "name": "ipython",
    "version": 3
   },
   "file_extension": ".py",
   "mimetype": "text/x-python",
   "name": "python",
   "nbconvert_exporter": "python",
   "pygments_lexer": "ipython3",
   "version": "3.8.3-final"
  },
  "orig_nbformat": 2,
  "kernelspec": {
   "name": "python3",
   "display_name": "Python 3.8.3 64-bit ('env': venv)",
   "metadata": {
    "interpreter": {
     "hash": "cae322a89c26dc397a196104e222981667d1309cc62067e2ca055e28f6fe78e0"
    }
   }
  }
 },
 "nbformat": 4,
 "nbformat_minor": 2,
 "cells": [
  {
   "source": [
    "# NCAA March Mardness Data Science Competition\n",
    "\n",
    "This notebook shows some exploratory data analysis"
   ],
   "cell_type": "markdown",
   "metadata": {}
  },
  {
   "source": [
    "## Load Libraries"
   ],
   "cell_type": "markdown",
   "metadata": {}
  },
  {
   "cell_type": "code",
   "execution_count": 10,
   "metadata": {},
   "outputs": [],
   "source": [
    "import pycost as ct\n",
    "import pandas as pd\n",
    "import numpy as np\n",
    "import hvplot.pandas\n",
    "\n",
    "import panel as pn\n"
   ]
  },
  {
   "source": [
    "## Load Data"
   ],
   "cell_type": "markdown",
   "metadata": {}
  },
  {
   "cell_type": "code",
   "execution_count": 4,
   "metadata": {},
   "outputs": [
    {
     "output_type": "execute_result",
     "data": {
      "text/plain": [
       "   Year                  Round  Seed             Team  Score  Seed.1  \\\n",
       "0  2019  National Championship     1        Virginia      85       3   \n",
       "1  2019             Final Four     1        Virginia      63       4   \n",
       "2  2019             Final Four     2  Michigan State      51       3   \n",
       "3  2019            Elite Eight     1         Gonzaga      69       3   \n",
       "4  2019            Elite Eight     1        Virginia      80       3   \n",
       "\n",
       "        Team.1  Score.1  Spread  Winner  Seed_dff  Favorite  Upset  \n",
       "0  Texas Tech        77       8       1         2         1  False  \n",
       "1      Auburn        62       1       1         3         1  False  \n",
       "2  Texas Tech        61     -10       0         1         1   True  \n",
       "3  Texas Tech        75      -6       0         2         1   True  \n",
       "4      Purdue        75       5       1         2         1  False  "
      ],
      "text/html": "<div>\n<style scoped>\n    .dataframe tbody tr th:only-of-type {\n        vertical-align: middle;\n    }\n\n    .dataframe tbody tr th {\n        vertical-align: top;\n    }\n\n    .dataframe thead th {\n        text-align: right;\n    }\n</style>\n<table border=\"1\" class=\"dataframe\">\n  <thead>\n    <tr style=\"text-align: right;\">\n      <th></th>\n      <th>Year</th>\n      <th>Round</th>\n      <th>Seed</th>\n      <th>Team</th>\n      <th>Score</th>\n      <th>Seed.1</th>\n      <th>Team.1</th>\n      <th>Score.1</th>\n      <th>Spread</th>\n      <th>Winner</th>\n      <th>Seed_dff</th>\n      <th>Favorite</th>\n      <th>Upset</th>\n    </tr>\n  </thead>\n  <tbody>\n    <tr>\n      <th>0</th>\n      <td>2019</td>\n      <td>National Championship</td>\n      <td>1</td>\n      <td>Virginia</td>\n      <td>85</td>\n      <td>3</td>\n      <td>Texas Tech</td>\n      <td>77</td>\n      <td>8</td>\n      <td>1</td>\n      <td>2</td>\n      <td>1</td>\n      <td>False</td>\n    </tr>\n    <tr>\n      <th>1</th>\n      <td>2019</td>\n      <td>Final Four</td>\n      <td>1</td>\n      <td>Virginia</td>\n      <td>63</td>\n      <td>4</td>\n      <td>Auburn</td>\n      <td>62</td>\n      <td>1</td>\n      <td>1</td>\n      <td>3</td>\n      <td>1</td>\n      <td>False</td>\n    </tr>\n    <tr>\n      <th>2</th>\n      <td>2019</td>\n      <td>Final Four</td>\n      <td>2</td>\n      <td>Michigan State</td>\n      <td>51</td>\n      <td>3</td>\n      <td>Texas Tech</td>\n      <td>61</td>\n      <td>-10</td>\n      <td>0</td>\n      <td>1</td>\n      <td>1</td>\n      <td>True</td>\n    </tr>\n    <tr>\n      <th>3</th>\n      <td>2019</td>\n      <td>Elite Eight</td>\n      <td>1</td>\n      <td>Gonzaga</td>\n      <td>69</td>\n      <td>3</td>\n      <td>Texas Tech</td>\n      <td>75</td>\n      <td>-6</td>\n      <td>0</td>\n      <td>2</td>\n      <td>1</td>\n      <td>True</td>\n    </tr>\n    <tr>\n      <th>4</th>\n      <td>2019</td>\n      <td>Elite Eight</td>\n      <td>1</td>\n      <td>Virginia</td>\n      <td>80</td>\n      <td>3</td>\n      <td>Purdue</td>\n      <td>75</td>\n      <td>5</td>\n      <td>1</td>\n      <td>2</td>\n      <td>1</td>\n      <td>False</td>\n    </tr>\n  </tbody>\n</table>\n</div>"
     },
     "metadata": {},
     "execution_count": 4
    }
   ],
   "source": [
    "teams = pd.read_csv('../src/data/seasons.csv')\n",
    "tourny = pd.read_csv('../src/data/tournaments.csv')\n",
    "tourny['Spread'] = tourny['Score'] - tourny['Score.1']\n",
    "tourny['Winner'] = np.where(tourny['Spread'] >0 ,1,0)\n",
    "tourny['Seed_dff'] =  tourny['Seed.1'] - tourny['Seed']\n",
    "tourny['Favorite'] = np.where(tourny['Seed.1'] > tourny['Seed'], 1, 0)\n",
    "tourny['Upset'] = tourny.Winner != tourny.Favorite\n",
    "\n",
    "tourny.head()"
   ]
  },
  {
   "source": [
    "## Exploratory Data Analysis"
   ],
   "cell_type": "markdown",
   "metadata": {}
  },
  {
   "cell_type": "code",
   "execution_count": 6,
   "metadata": {},
   "outputs": [
    {
     "output_type": "execute_result",
     "data": {
      "text/plain": [
       "          count       mean        std   min    25%   50%    75%   max\n",
       "Seed_dff                                                             \n",
       "-10         1.0  -6.000000        NaN  -6.0  -6.00  -6.0  -6.00  -6.0\n",
       "-9         16.0  -6.750000   7.160074 -18.0 -12.25  -5.0  -1.75   6.0\n",
       "-8        134.0  -4.858209  13.263185 -32.0 -14.75  -5.5   3.00  34.0\n",
       "-7          6.0  -3.000000   6.449806 -12.0  -6.75  -3.5   2.75   4.0\n",
       "-6          9.0  -4.666667   9.886860 -20.0  -8.00  -4.0   3.00  12.0\n",
       "-5         87.0  -5.425287  11.946229 -37.0 -14.00  -6.0   3.50  22.0\n",
       "-4         50.0  -3.740000  10.561405 -26.0 -10.00  -2.0   3.75  21.0\n",
       "-3         83.0  -2.096386  11.102202 -30.0  -9.00  -3.0   4.00  35.0\n",
       "-2         13.0  -3.230769  14.382593 -37.0 -14.00  -1.0   7.00  14.0\n",
       "-1        146.0  -1.760274  12.143569 -33.0 -10.00  -3.0   7.00  31.0\n",
       " 0         72.0   1.180556  11.587179 -31.0  -6.00   2.5   8.25  44.0\n",
       " 1        221.0   0.294118  10.872376 -29.0  -7.00   1.0   8.00  30.0\n",
       " 2         38.0   1.789474  13.337932 -25.0  -9.75   2.0   9.75  31.0\n",
       " 3        212.0   4.066038  11.072590 -30.0  -4.00   4.5  12.00  32.0\n",
       " 4         67.0   6.059701  11.409566 -20.0   0.00   6.0  13.00  39.0\n",
       " 5        158.0   4.075949  11.164973 -20.0  -3.00   5.0  12.00  33.0\n",
       " 6          9.0   3.000000   9.013878 -10.0  -1.00   3.0   5.00  21.0\n",
       " 7        220.0   5.954545  11.435654 -20.0  -2.00   5.0  13.00  46.0\n",
       " 8        111.0  11.324324  10.460456 -13.0   4.00  12.0  17.50  43.0\n",
       " 9        146.0   8.794521  11.722609 -23.0   2.00   8.5  15.00  47.0\n",
       " 10         7.0   8.142857  14.542221 -10.0  -2.00   7.0  17.00  30.0\n",
       " 11       160.0  11.668750  10.187995 -14.0   4.75  11.5  17.00  39.0\n",
       " 12         5.0  13.200000   5.932959   8.0   8.00  12.0  16.00  22.0\n",
       " 13       140.0  16.121429  10.491838 -13.0  10.00  16.0  22.00  49.0\n",
       " 15       140.0  24.242857  12.574309 -20.0  15.00  23.5  34.00  58.0"
      ],
      "text/html": "<div>\n<style scoped>\n    .dataframe tbody tr th:only-of-type {\n        vertical-align: middle;\n    }\n\n    .dataframe tbody tr th {\n        vertical-align: top;\n    }\n\n    .dataframe thead th {\n        text-align: right;\n    }\n</style>\n<table border=\"1\" class=\"dataframe\">\n  <thead>\n    <tr style=\"text-align: right;\">\n      <th></th>\n      <th>count</th>\n      <th>mean</th>\n      <th>std</th>\n      <th>min</th>\n      <th>25%</th>\n      <th>50%</th>\n      <th>75%</th>\n      <th>max</th>\n    </tr>\n    <tr>\n      <th>Seed_dff</th>\n      <th></th>\n      <th></th>\n      <th></th>\n      <th></th>\n      <th></th>\n      <th></th>\n      <th></th>\n      <th></th>\n    </tr>\n  </thead>\n  <tbody>\n    <tr>\n      <th>-10</th>\n      <td>1.0</td>\n      <td>-6.000000</td>\n      <td>NaN</td>\n      <td>-6.0</td>\n      <td>-6.00</td>\n      <td>-6.0</td>\n      <td>-6.00</td>\n      <td>-6.0</td>\n    </tr>\n    <tr>\n      <th>-9</th>\n      <td>16.0</td>\n      <td>-6.750000</td>\n      <td>7.160074</td>\n      <td>-18.0</td>\n      <td>-12.25</td>\n      <td>-5.0</td>\n      <td>-1.75</td>\n      <td>6.0</td>\n    </tr>\n    <tr>\n      <th>-8</th>\n      <td>134.0</td>\n      <td>-4.858209</td>\n      <td>13.263185</td>\n      <td>-32.0</td>\n      <td>-14.75</td>\n      <td>-5.5</td>\n      <td>3.00</td>\n      <td>34.0</td>\n    </tr>\n    <tr>\n      <th>-7</th>\n      <td>6.0</td>\n      <td>-3.000000</td>\n      <td>6.449806</td>\n      <td>-12.0</td>\n      <td>-6.75</td>\n      <td>-3.5</td>\n      <td>2.75</td>\n      <td>4.0</td>\n    </tr>\n    <tr>\n      <th>-6</th>\n      <td>9.0</td>\n      <td>-4.666667</td>\n      <td>9.886860</td>\n      <td>-20.0</td>\n      <td>-8.00</td>\n      <td>-4.0</td>\n      <td>3.00</td>\n      <td>12.0</td>\n    </tr>\n    <tr>\n      <th>-5</th>\n      <td>87.0</td>\n      <td>-5.425287</td>\n      <td>11.946229</td>\n      <td>-37.0</td>\n      <td>-14.00</td>\n      <td>-6.0</td>\n      <td>3.50</td>\n      <td>22.0</td>\n    </tr>\n    <tr>\n      <th>-4</th>\n      <td>50.0</td>\n      <td>-3.740000</td>\n      <td>10.561405</td>\n      <td>-26.0</td>\n      <td>-10.00</td>\n      <td>-2.0</td>\n      <td>3.75</td>\n      <td>21.0</td>\n    </tr>\n    <tr>\n      <th>-3</th>\n      <td>83.0</td>\n      <td>-2.096386</td>\n      <td>11.102202</td>\n      <td>-30.0</td>\n      <td>-9.00</td>\n      <td>-3.0</td>\n      <td>4.00</td>\n      <td>35.0</td>\n    </tr>\n    <tr>\n      <th>-2</th>\n      <td>13.0</td>\n      <td>-3.230769</td>\n      <td>14.382593</td>\n      <td>-37.0</td>\n      <td>-14.00</td>\n      <td>-1.0</td>\n      <td>7.00</td>\n      <td>14.0</td>\n    </tr>\n    <tr>\n      <th>-1</th>\n      <td>146.0</td>\n      <td>-1.760274</td>\n      <td>12.143569</td>\n      <td>-33.0</td>\n      <td>-10.00</td>\n      <td>-3.0</td>\n      <td>7.00</td>\n      <td>31.0</td>\n    </tr>\n    <tr>\n      <th>0</th>\n      <td>72.0</td>\n      <td>1.180556</td>\n      <td>11.587179</td>\n      <td>-31.0</td>\n      <td>-6.00</td>\n      <td>2.5</td>\n      <td>8.25</td>\n      <td>44.0</td>\n    </tr>\n    <tr>\n      <th>1</th>\n      <td>221.0</td>\n      <td>0.294118</td>\n      <td>10.872376</td>\n      <td>-29.0</td>\n      <td>-7.00</td>\n      <td>1.0</td>\n      <td>8.00</td>\n      <td>30.0</td>\n    </tr>\n    <tr>\n      <th>2</th>\n      <td>38.0</td>\n      <td>1.789474</td>\n      <td>13.337932</td>\n      <td>-25.0</td>\n      <td>-9.75</td>\n      <td>2.0</td>\n      <td>9.75</td>\n      <td>31.0</td>\n    </tr>\n    <tr>\n      <th>3</th>\n      <td>212.0</td>\n      <td>4.066038</td>\n      <td>11.072590</td>\n      <td>-30.0</td>\n      <td>-4.00</td>\n      <td>4.5</td>\n      <td>12.00</td>\n      <td>32.0</td>\n    </tr>\n    <tr>\n      <th>4</th>\n      <td>67.0</td>\n      <td>6.059701</td>\n      <td>11.409566</td>\n      <td>-20.0</td>\n      <td>0.00</td>\n      <td>6.0</td>\n      <td>13.00</td>\n      <td>39.0</td>\n    </tr>\n    <tr>\n      <th>5</th>\n      <td>158.0</td>\n      <td>4.075949</td>\n      <td>11.164973</td>\n      <td>-20.0</td>\n      <td>-3.00</td>\n      <td>5.0</td>\n      <td>12.00</td>\n      <td>33.0</td>\n    </tr>\n    <tr>\n      <th>6</th>\n      <td>9.0</td>\n      <td>3.000000</td>\n      <td>9.013878</td>\n      <td>-10.0</td>\n      <td>-1.00</td>\n      <td>3.0</td>\n      <td>5.00</td>\n      <td>21.0</td>\n    </tr>\n    <tr>\n      <th>7</th>\n      <td>220.0</td>\n      <td>5.954545</td>\n      <td>11.435654</td>\n      <td>-20.0</td>\n      <td>-2.00</td>\n      <td>5.0</td>\n      <td>13.00</td>\n      <td>46.0</td>\n    </tr>\n    <tr>\n      <th>8</th>\n      <td>111.0</td>\n      <td>11.324324</td>\n      <td>10.460456</td>\n      <td>-13.0</td>\n      <td>4.00</td>\n      <td>12.0</td>\n      <td>17.50</td>\n      <td>43.0</td>\n    </tr>\n    <tr>\n      <th>9</th>\n      <td>146.0</td>\n      <td>8.794521</td>\n      <td>11.722609</td>\n      <td>-23.0</td>\n      <td>2.00</td>\n      <td>8.5</td>\n      <td>15.00</td>\n      <td>47.0</td>\n    </tr>\n    <tr>\n      <th>10</th>\n      <td>7.0</td>\n      <td>8.142857</td>\n      <td>14.542221</td>\n      <td>-10.0</td>\n      <td>-2.00</td>\n      <td>7.0</td>\n      <td>17.00</td>\n      <td>30.0</td>\n    </tr>\n    <tr>\n      <th>11</th>\n      <td>160.0</td>\n      <td>11.668750</td>\n      <td>10.187995</td>\n      <td>-14.0</td>\n      <td>4.75</td>\n      <td>11.5</td>\n      <td>17.00</td>\n      <td>39.0</td>\n    </tr>\n    <tr>\n      <th>12</th>\n      <td>5.0</td>\n      <td>13.200000</td>\n      <td>5.932959</td>\n      <td>8.0</td>\n      <td>8.00</td>\n      <td>12.0</td>\n      <td>16.00</td>\n      <td>22.0</td>\n    </tr>\n    <tr>\n      <th>13</th>\n      <td>140.0</td>\n      <td>16.121429</td>\n      <td>10.491838</td>\n      <td>-13.0</td>\n      <td>10.00</td>\n      <td>16.0</td>\n      <td>22.00</td>\n      <td>49.0</td>\n    </tr>\n    <tr>\n      <th>15</th>\n      <td>140.0</td>\n      <td>24.242857</td>\n      <td>12.574309</td>\n      <td>-20.0</td>\n      <td>15.00</td>\n      <td>23.5</td>\n      <td>34.00</td>\n      <td>58.0</td>\n    </tr>\n  </tbody>\n</table>\n</div>"
     },
     "metadata": {},
     "execution_count": 6
    }
   ],
   "source": [
    "tourny.groupby('Seed_dff')['Spread'].describe()"
   ]
  },
  {
   "cell_type": "code",
   "execution_count": 8,
   "metadata": {},
   "outputs": [
    {
     "output_type": "display_data",
     "data": {},
     "metadata": {}
    },
    {
     "output_type": "execute_result",
     "data": {
      "text/html": "<div id='1257'>\n\n\n\n\n\n  <div class=\"bk-root\" id=\"0136a9fc-d166-4a7c-a8b9-f7b2a5148c41\" data-root-id=\"1257\"></div>\n</div>\n<script type=\"application/javascript\">(function(root) {\n  function embed_document(root) {\n    var docs_json = {\"0b65e10b-e47f-462a-b8c3-a4ff3b85e9c5\":{\"defs\":[{\"extends\":null,\"module\":null,\"name\":\"DataModel\",\"overrides\":[],\"properties\":[]}],\"roots\":{\"references\":[{\"attributes\":{},\"id\":\"1339\",\"type\":\"Selection\"},{\"attributes\":{},\"id\":\"1282\",\"type\":\"ResetTool\"},{\"attributes\":{},\"id\":\"1342\",\"type\":\"UnionRenderers\"},{\"attributes\":{\"line_alpha\":{\"value\":0.1},\"x0\":{\"field\":\"x0\"},\"x1\":{\"field\":\"x1\"},\"y0\":{\"field\":\"y0\"},\"y1\":{\"field\":\"y1\"}},\"id\":\"1315\",\"type\":\"Segment\"},{\"attributes\":{\"bottom\":{\"field\":\"bottom\"},\"fill_alpha\":{\"value\":1.0},\"fill_color\":{\"value\":\"#30a2da\"},\"hatch_alpha\":{\"value\":1.0},\"hatch_color\":{\"value\":\"black\"},\"hatch_scale\":{\"value\":12.0},\"hatch_weight\":{\"value\":1.0},\"line_alpha\":{\"value\":1.0},\"line_cap\":{\"value\":\"butt\"},\"line_color\":{\"value\":\"black\"},\"line_dash\":{\"value\":[]},\"line_dash_offset\":{\"value\":0},\"line_join\":{\"value\":\"bevel\"},\"line_width\":{\"value\":1},\"top\":{\"field\":\"top\"},\"width\":{\"value\":0.7},\"x\":{\"field\":\"index\"}},\"id\":\"1361\",\"type\":\"VBar\"},{\"attributes\":{\"x0\":{\"field\":\"x0\"},\"x1\":{\"field\":\"x1\"},\"y0\":{\"field\":\"y0\"},\"y1\":{\"field\":\"y1\"}},\"id\":\"1307\",\"type\":\"Segment\"},{\"attributes\":{},\"id\":\"1349\",\"type\":\"Selection\"},{\"attributes\":{},\"id\":\"1340\",\"type\":\"UnionRenderers\"},{\"attributes\":{\"data\":{\"x0\":[[\"-10\",-0.2],[\"-9\",-0.2],[\"-8\",-0.2],[\"-7\",-0.2],[\"-6\",-0.2],[\"-5\",-0.2],[\"-4\",-0.2],[\"-3\",-0.2],[\"-2\",-0.2],[\"-1\",-0.2],[\"0\",-0.2],[\"1\",-0.2],[\"2\",-0.2],[\"3\",-0.2],[\"4\",-0.2],[\"5\",-0.2],[\"6\",-0.2],[\"7\",-0.2],[\"8\",-0.2],[\"9\",-0.2],[\"10\",-0.2],[\"11\",-0.2],[\"12\",-0.2],[\"13\",-0.2],[\"15\",-0.2]],\"x1\":[[\"-10\",0.2],[\"-9\",0.2],[\"-8\",0.2],[\"-7\",0.2],[\"-6\",0.2],[\"-5\",0.2],[\"-4\",0.2],[\"-3\",0.2],[\"-2\",0.2],[\"-1\",0.2],[\"0\",0.2],[\"1\",0.2],[\"2\",0.2],[\"3\",0.2],[\"4\",0.2],[\"5\",0.2],[\"6\",0.2],[\"7\",0.2],[\"8\",0.2],[\"9\",0.2],[\"10\",0.2],[\"11\",0.2],[\"12\",0.2],[\"13\",0.2],[\"15\",0.2]],\"y0\":[-6,-18,-32,-12,-20,-37,-26,-25,-37,-33,-18,-29,-25,-22,-17,-20,-10,-20,-13,-15,-10,-8,8,-5,1],\"y1\":[-6,-18,-32,-12,-20,-37,-26,-25,-37,-33,-18,-29,-25,-22,-17,-20,-10,-20,-13,-15,-10,-8,8,-5,1]},\"selected\":{\"id\":\"1345\"},\"selection_policy\":{\"id\":\"1346\"}},\"id\":\"1312\",\"type\":\"ColumnDataSource\"},{\"attributes\":{\"line_alpha\":{\"value\":1.0},\"line_cap\":{\"value\":\"butt\"},\"line_color\":{\"value\":\"black\"},\"line_dash\":{\"value\":[]},\"line_dash_offset\":{\"value\":0},\"line_join\":{\"value\":\"bevel\"},\"line_width\":{\"value\":1},\"x0\":{\"field\":\"x0\"},\"x1\":{\"field\":\"x1\"},\"y0\":{\"field\":\"y0\"},\"y1\":{\"field\":\"y1\"}},\"id\":\"1318\",\"type\":\"Segment\"},{\"attributes\":{\"active_multi\":null,\"tools\":[{\"id\":\"1261\"},{\"id\":\"1278\"},{\"id\":\"1279\"},{\"id\":\"1280\"},{\"id\":\"1281\"},{\"id\":\"1282\"}]},\"id\":\"1284\",\"type\":\"Toolbar\"},{\"attributes\":{\"bottom_units\":\"screen\",\"fill_alpha\":0.5,\"fill_color\":\"lightgrey\",\"left_units\":\"screen\",\"level\":\"overlay\",\"line_alpha\":1.0,\"line_color\":\"black\",\"line_dash\":[4,4],\"line_width\":2,\"right_units\":\"screen\",\"syncable\":false,\"top_units\":\"screen\"},\"id\":\"1283\",\"type\":\"BoxAnnotation\"},{\"attributes\":{\"line_alpha\":{\"value\":0.1},\"x0\":{\"field\":\"x0\"},\"x1\":{\"field\":\"x1\"},\"y0\":{\"field\":\"y0\"},\"y1\":{\"field\":\"y1\"}},\"id\":\"1301\",\"type\":\"Segment\"},{\"attributes\":{\"data_source\":{\"id\":\"1355\"},\"glyph\":{\"id\":\"1357\"},\"hover_glyph\":null,\"muted_glyph\":null,\"nonselection_glyph\":{\"id\":\"1358\"},\"selection_glyph\":{\"id\":\"1361\"},\"view\":{\"id\":\"1360\"}},\"id\":\"1359\",\"type\":\"GlyphRenderer\"},{\"attributes\":{\"x0\":{\"field\":\"x0\"},\"x1\":{\"field\":\"x1\"},\"y0\":{\"field\":\"y0\"},\"y1\":{\"field\":\"y1\"}},\"id\":\"1300\",\"type\":\"Segment\"},{\"attributes\":{\"source\":{\"id\":\"1298\"}},\"id\":\"1303\",\"type\":\"CDSView\"},{\"attributes\":{\"source\":{\"id\":\"1355\"}},\"id\":\"1360\",\"type\":\"CDSView\"},{\"attributes\":{\"source\":{\"id\":\"1312\"}},\"id\":\"1317\",\"type\":\"CDSView\"},{\"attributes\":{\"source\":{\"id\":\"1326\"}},\"id\":\"1331\",\"type\":\"CDSView\"},{\"attributes\":{\"data\":{\"x0\":[[\"-10\",-0.2],[\"-9\",-0.2],[\"-8\",-0.2],[\"-7\",-0.2],[\"-6\",-0.2],[\"-5\",-0.2],[\"-4\",-0.2],[\"-3\",-0.2],[\"-2\",-0.2],[\"-1\",-0.2],[\"0\",-0.2],[\"1\",-0.2],[\"2\",-0.2],[\"3\",-0.2],[\"4\",-0.2],[\"5\",-0.2],[\"6\",-0.2],[\"7\",-0.2],[\"8\",-0.2],[\"9\",-0.2],[\"10\",-0.2],[\"11\",-0.2],[\"12\",-0.2],[\"13\",-0.2],[\"15\",-0.2]],\"x1\":[[\"-10\",0.2],[\"-9\",0.2],[\"-8\",0.2],[\"-7\",0.2],[\"-6\",0.2],[\"-5\",0.2],[\"-4\",0.2],[\"-3\",0.2],[\"-2\",0.2],[\"-1\",0.2],[\"0\",0.2],[\"1\",0.2],[\"2\",0.2],[\"3\",0.2],[\"4\",0.2],[\"5\",0.2],[\"6\",0.2],[\"7\",0.2],[\"8\",0.2],[\"9\",0.2],[\"10\",0.2],[\"11\",0.2],[\"12\",0.2],[\"13\",0.2],[\"15\",0.2]],\"y0\":[-6,6,25,4,12,22,21,19,14,31,22,30,31,32,27,33,9,35,34,34,30,35,22,40,58],\"y1\":[-6,6,25,4,12,22,21,19,14,31,22,30,31,32,27,33,9,35,34,34,30,35,22,40,58]},\"selected\":{\"id\":\"1347\"},\"selection_policy\":{\"id\":\"1348\"}},\"id\":\"1319\",\"type\":\"ColumnDataSource\"},{\"attributes\":{\"source\":{\"id\":\"1319\"}},\"id\":\"1324\",\"type\":\"CDSView\"},{\"attributes\":{\"bottom\":{\"field\":\"bottom\"},\"fill_alpha\":{\"value\":0.1},\"fill_color\":{\"value\":\"#30a2da\"},\"line_alpha\":{\"value\":0.1},\"top\":{\"field\":\"top\"},\"width\":{\"value\":0.7},\"x\":{\"field\":\"index\"}},\"id\":\"1329\",\"type\":\"VBar\"},{\"attributes\":{\"line_alpha\":{\"value\":0.1},\"x0\":{\"field\":\"x0\"},\"x1\":{\"field\":\"x1\"},\"y0\":{\"field\":\"y0\"},\"y1\":{\"field\":\"y1\"}},\"id\":\"1322\",\"type\":\"Segment\"},{\"attributes\":{\"line_alpha\":{\"value\":1.0},\"line_cap\":{\"value\":\"butt\"},\"line_color\":{\"value\":\"black\"},\"line_dash\":{\"value\":[]},\"line_dash_offset\":{\"value\":0},\"line_join\":{\"value\":\"bevel\"},\"line_width\":{\"value\":1},\"x0\":{\"field\":\"x0\"},\"x1\":{\"field\":\"x1\"},\"y0\":{\"field\":\"y0\"},\"y1\":{\"field\":\"y1\"}},\"id\":\"1304\",\"type\":\"Segment\"},{\"attributes\":{\"data_source\":{\"id\":\"1319\"},\"glyph\":{\"id\":\"1321\"},\"hover_glyph\":null,\"muted_glyph\":null,\"nonselection_glyph\":{\"id\":\"1322\"},\"selection_glyph\":{\"id\":\"1325\"},\"view\":{\"id\":\"1324\"}},\"id\":\"1323\",\"type\":\"GlyphRenderer\"},{\"attributes\":{\"text_color\":\"black\",\"text_font_size\":\"12pt\"},\"id\":\"1263\",\"type\":\"Title\"},{\"attributes\":{},\"id\":\"1387\",\"type\":\"Selection\"},{\"attributes\":{\"margin\":[5,5,5,5],\"name\":\"HSpacer02169\",\"sizing_mode\":\"stretch_width\"},\"id\":\"1412\",\"type\":\"Spacer\"},{\"attributes\":{\"callback\":null,\"renderers\":[{\"id\":\"1295\"},{\"id\":\"1330\"},{\"id\":\"1359\"}],\"tags\":[\"hv_created\"],\"tooltips\":[[\"Seed_dff\",\"@{Seed_dff}\"],[\"Spread\",\"@{Spread}\"]]},\"id\":\"1261\",\"type\":\"HoverTool\"},{\"attributes\":{},\"id\":\"1388\",\"type\":\"UnionRenderers\"},{\"attributes\":{\"bottom\":{\"field\":\"bottom\"},\"fill_color\":{\"value\":\"#30a2da\"},\"top\":{\"field\":\"top\"},\"width\":{\"value\":0.7},\"x\":{\"field\":\"index\"}},\"id\":\"1328\",\"type\":\"VBar\"},{\"attributes\":{\"bottom\":{\"field\":\"bottom\"},\"fill_alpha\":{\"value\":0.1},\"fill_color\":{\"value\":\"#30a2da\"},\"line_alpha\":{\"value\":0.1},\"top\":{\"field\":\"top\"},\"width\":{\"value\":0.7},\"x\":{\"field\":\"index\"}},\"id\":\"1358\",\"type\":\"VBar\"},{\"attributes\":{\"source\":{\"id\":\"1291\"}},\"id\":\"1296\",\"type\":\"CDSView\"},{\"attributes\":{\"data\":{\"Seed_dff\":{\"__ndarray__\":\"+P////j////9/////f////3///8AAAAAAAAAAAMAAAAEAAAABAAAAAQAAAAGAAAABwAAAAcAAAAIAAAACAAAAAkAAAAJAAAACQAAAAkAAAAJAAAACwAAAAsAAAALAAAACwAAAA0AAAANAAAADQAAAA0AAAAPAAAA\",\"dtype\":\"int32\",\"order\":\"little\",\"shape\":[30]},\"Spread\":[30,34,30,35,-30,44,-31,-30,39,34,-20,21,45,46,43,41,-21,38,-23,-21,47,39,-14,39,-14,-9,49,-10,-13,-20],\"index\":[\"-8\",\"-8\",\"-3\",\"-3\",\"-3\",\"0\",\"0\",\"3\",\"4\",\"4\",\"4\",\"6\",\"7\",\"7\",\"8\",\"8\",\"9\",\"9\",\"9\",\"9\",\"9\",\"11\",\"11\",\"11\",\"11\",\"13\",\"13\",\"13\",\"13\",\"15\"]},\"selected\":{\"id\":\"1339\"},\"selection_policy\":{\"id\":\"1340\"}},\"id\":\"1291\",\"type\":\"ColumnDataSource\"},{\"attributes\":{\"data_source\":{\"id\":\"1298\"},\"glyph\":{\"id\":\"1300\"},\"hover_glyph\":null,\"muted_glyph\":null,\"nonselection_glyph\":{\"id\":\"1301\"},\"selection_glyph\":{\"id\":\"1304\"},\"view\":{\"id\":\"1303\"}},\"id\":\"1302\",\"type\":\"GlyphRenderer\"},{\"attributes\":{\"x0\":{\"field\":\"x0\"},\"x1\":{\"field\":\"x1\"},\"y0\":{\"field\":\"y0\"},\"y1\":{\"field\":\"y1\"}},\"id\":\"1314\",\"type\":\"Segment\"},{\"attributes\":{},\"id\":\"1336\",\"type\":\"AllLabels\"},{\"attributes\":{\"data_source\":{\"id\":\"1305\"},\"glyph\":{\"id\":\"1307\"},\"hover_glyph\":null,\"muted_glyph\":null,\"nonselection_glyph\":{\"id\":\"1308\"},\"selection_glyph\":{\"id\":\"1311\"},\"view\":{\"id\":\"1310\"}},\"id\":\"1309\",\"type\":\"GlyphRenderer\"},{\"attributes\":{\"children\":[{\"id\":\"1258\"},{\"id\":\"1262\"},{\"id\":\"1412\"}],\"margin\":[0,0,0,0],\"name\":\"Row02164\",\"tags\":[\"embedded\"]},\"id\":\"1257\",\"type\":\"Row\"},{\"attributes\":{\"line_alpha\":{\"value\":1.0},\"line_cap\":{\"value\":\"butt\"},\"line_color\":{\"value\":\"black\"},\"line_dash\":{\"value\":[]},\"line_dash_offset\":{\"value\":0},\"line_join\":{\"value\":\"bevel\"},\"line_width\":{\"value\":1},\"x0\":{\"field\":\"x0\"},\"x1\":{\"field\":\"x1\"},\"y0\":{\"field\":\"y0\"},\"y1\":{\"field\":\"y1\"}},\"id\":\"1311\",\"type\":\"Segment\"},{\"attributes\":{},\"id\":\"1333\",\"type\":\"AllLabels\"},{\"attributes\":{},\"id\":\"1338\",\"type\":\"BasicTickFormatter\"},{\"attributes\":{\"fill_alpha\":{\"value\":0.1},\"fill_color\":{\"value\":\"black\"},\"line_alpha\":{\"value\":0.1},\"x\":{\"field\":\"index\"},\"y\":{\"field\":\"Spread\"}},\"id\":\"1294\",\"type\":\"Circle\"},{\"attributes\":{\"axis_label\":\"Seed_dff\",\"formatter\":{\"id\":\"1335\"},\"major_label_policy\":{\"id\":\"1333\"},\"ticker\":{\"id\":\"1272\"}},\"id\":\"1271\",\"type\":\"CategoricalAxis\"},{\"attributes\":{\"below\":[{\"id\":\"1271\"}],\"center\":[{\"id\":\"1273\"},{\"id\":\"1277\"},{\"id\":\"1352\"}],\"height\":300,\"left\":[{\"id\":\"1274\"}],\"margin\":[5,5,5,5],\"min_border_bottom\":10,\"min_border_left\":10,\"min_border_right\":10,\"min_border_top\":10,\"renderers\":[{\"id\":\"1295\"},{\"id\":\"1302\"},{\"id\":\"1309\"},{\"id\":\"1316\"},{\"id\":\"1323\"},{\"id\":\"1330\"},{\"id\":\"1359\"}],\"sizing_mode\":\"fixed\",\"title\":{\"id\":\"1263\"},\"toolbar\":{\"id\":\"1284\"},\"width\":700,\"x_range\":{\"id\":\"1259\"},\"x_scale\":{\"id\":\"1267\"},\"y_range\":{\"id\":\"1260\"},\"y_scale\":{\"id\":\"1269\"}},\"id\":\"1262\",\"subtype\":\"Figure\",\"type\":\"Plot\"},{\"attributes\":{\"data\":{\"Seed_dff\":{\"__ndarray__\":\"9v////f////4////+f////r////7/////P////3////+/////////wAAAAABAAAAAgAAAAMAAAAEAAAABQAAAAYAAAAHAAAACAAAAAkAAAAKAAAACwAAAAwAAAANAAAADwAAAA==\",\"dtype\":\"int32\",\"order\":\"little\",\"shape\":[25]},\"Spread\":{\"__ndarray__\":\"AAAAAAAAGMAAAAAAAAAUwAAAAAAAABbAAAAAAAAADMAAAAAAAAAQwAAAAAAAABjAAAAAAAAAAMAAAAAAAAAIwAAAAAAAAPC/AAAAAAAACMAAAAAAAAAEQAAAAAAAAPA/AAAAAAAAAEAAAAAAAAASQAAAAAAAABhAAAAAAAAAFEAAAAAAAAAIQAAAAAAAABRAAAAAAAAAKEAAAAAAAAAhQAAAAAAAABxAAAAAAAAAJ0AAAAAAAAAoQAAAAAAAADBAAAAAAACAN0A=\",\"dtype\":\"float64\",\"order\":\"little\",\"shape\":[25]},\"bottom\":{\"__ndarray__\":\"AAAAAAAAGMAAAAAAAAD8vwAAAAAAAAhAAAAAAAAABkAAAAAAAAAIQAAAAAAAAAxAAAAAAAAADkAAAAAAAAAQQAAAAAAAABxAAAAAAAAAHEAAAAAAAIAgQAAAAAAAACBAAAAAAACAI0AAAAAAAAAoQAAAAAAAACpAAAAAAAAAKEAAAAAAAAAUQAAAAAAAACpAAAAAAACAMUAAAAAAAAAuQAAAAAAAADFAAAAAAAAAMUAAAAAAAAAwQAAAAAAAADZAAAAAAAAAQUA=\",\"dtype\":\"float64\",\"order\":\"little\",\"shape\":[25]},\"index\":[\"-10\",\"-9\",\"-8\",\"-7\",\"-6\",\"-5\",\"-4\",\"-3\",\"-2\",\"-1\",\"0\",\"1\",\"2\",\"3\",\"4\",\"5\",\"6\",\"7\",\"8\",\"9\",\"10\",\"11\",\"12\",\"13\",\"15\"],\"top\":{\"__ndarray__\":\"AAAAAAAAGMAAAAAAAAAUwAAAAAAAABbAAAAAAAAADMAAAAAAAAAQwAAAAAAAABjAAAAAAAAAAMAAAAAAAAAIwAAAAAAAAPC/AAAAAAAACMAAAAAAAAAEQAAAAAAAAPA/AAAAAAAAAEAAAAAAAAASQAAAAAAAABhAAAAAAAAAFEAAAAAAAAAIQAAAAAAAABRAAAAAAAAAKEAAAAAAAAAhQAAAAAAAABxAAAAAAAAAJ0AAAAAAAAAoQAAAAAAAADBAAAAAAACAN0A=\",\"dtype\":\"float64\",\"order\":\"little\",\"shape\":[25]}},\"selected\":{\"id\":\"1349\"},\"selection_policy\":{\"id\":\"1350\"}},\"id\":\"1326\",\"type\":\"ColumnDataSource\"},{\"attributes\":{\"margin\":[5,5,5,5],\"name\":\"HSpacer02168\",\"sizing_mode\":\"stretch_width\"},\"id\":\"1258\",\"type\":\"Spacer\"},{\"attributes\":{\"end\":67.5,\"reset_end\":67.5,\"reset_start\":-46.5,\"start\":-46.5,\"tags\":[[[\"Spread\",\"Spread\",null]]]},\"id\":\"1260\",\"type\":\"Range1d\"},{\"attributes\":{\"angle\":{\"value\":0.0},\"fill_alpha\":{\"value\":1.0},\"fill_color\":{\"value\":\"black\"},\"hatch_alpha\":{\"value\":1.0},\"hatch_color\":{\"value\":\"black\"},\"hatch_scale\":{\"value\":12.0},\"hatch_weight\":{\"value\":1.0},\"line_alpha\":{\"value\":1.0},\"line_cap\":{\"value\":\"butt\"},\"line_color\":{\"value\":\"black\"},\"line_dash\":{\"value\":[]},\"line_dash_offset\":{\"value\":0},\"line_join\":{\"value\":\"bevel\"},\"line_width\":{\"value\":1},\"size\":{\"value\":4},\"x\":{\"field\":\"index\"},\"y\":{\"field\":\"Spread\"}},\"id\":\"1297\",\"type\":\"Circle\"},{\"attributes\":{},\"id\":\"1343\",\"type\":\"Selection\"},{\"attributes\":{\"data\":{\"Seed_dff\":{\"__ndarray__\":\"9v////f////4////+f////r////7/////P////3////+/////////wAAAAABAAAAAgAAAAMAAAAEAAAABQAAAAYAAAAHAAAACAAAAAkAAAAKAAAACwAAAAwAAAANAAAADwAAAA==\",\"dtype\":\"int32\",\"order\":\"little\",\"shape\":[25]},\"Spread\":{\"__ndarray__\":\"AAAAAAAAGMAAAAAAAAAUwAAAAAAAABbAAAAAAAAADMAAAAAAAAAQwAAAAAAAABjAAAAAAAAAAMAAAAAAAAAIwAAAAAAAAPC/AAAAAAAACMAAAAAAAAAEQAAAAAAAAPA/AAAAAAAAAEAAAAAAAAASQAAAAAAAABhAAAAAAAAAFEAAAAAAAAAIQAAAAAAAABRAAAAAAAAAKEAAAAAAAAAhQAAAAAAAABxAAAAAAAAAJ0AAAAAAAAAoQAAAAAAAADBAAAAAAACAN0A=\",\"dtype\":\"float64\",\"order\":\"little\",\"shape\":[25]},\"bottom\":{\"__ndarray__\":\"AAAAAAAAGMAAAAAAAAAUwAAAAAAAABbAAAAAAAAADMAAAAAAAAAQwAAAAAAAABjAAAAAAAAAAMAAAAAAAAAIwAAAAAAAAPC/AAAAAAAACMAAAAAAAAAEQAAAAAAAAPA/AAAAAAAAAEAAAAAAAAASQAAAAAAAABhAAAAAAAAAFEAAAAAAAAAIQAAAAAAAABRAAAAAAAAAKEAAAAAAAAAhQAAAAAAAABxAAAAAAAAAJ0AAAAAAAAAoQAAAAAAAADBAAAAAAACAN0A=\",\"dtype\":\"float64\",\"order\":\"little\",\"shape\":[25]},\"index\":[\"-10\",\"-9\",\"-8\",\"-7\",\"-6\",\"-5\",\"-4\",\"-3\",\"-2\",\"-1\",\"0\",\"1\",\"2\",\"3\",\"4\",\"5\",\"6\",\"7\",\"8\",\"9\",\"10\",\"11\",\"12\",\"13\",\"15\"],\"top\":{\"__ndarray__\":\"AAAAAAAAGMAAAAAAAIAowAAAAAAAgC3AAAAAAAAAG8AAAAAAAAAgwAAAAAAAACzAAAAAAAAAJMAAAAAAAAAiwAAAAAAAACzAAAAAAAAAJMAAAAAAAAAYwAAAAAAAABzAAAAAAACAI8AAAAAAAAAQwAAAAAAAAAAAAAAAAAAACMAAAAAAAADwvwAAAAAAAADAAAAAAAAAEEAAAAAAAAAAQAAAAAAAAADAAAAAAAAAE0AAAAAAAAAgQAAAAAAAACRAAAAAAAAALkA=\",\"dtype\":\"float64\",\"order\":\"little\",\"shape\":[25]}},\"selected\":{\"id\":\"1387\"},\"selection_policy\":{\"id\":\"1388\"}},\"id\":\"1355\",\"type\":\"ColumnDataSource\"},{\"attributes\":{},\"id\":\"1272\",\"type\":\"CategoricalTicker\"},{\"attributes\":{\"axis\":{\"id\":\"1274\"},\"dimension\":1,\"grid_line_color\":null,\"ticker\":null},\"id\":\"1277\",\"type\":\"Grid\"},{\"attributes\":{\"line_alpha\":{\"value\":1.0},\"line_cap\":{\"value\":\"butt\"},\"line_color\":{\"value\":\"black\"},\"line_dash\":{\"value\":[]},\"line_dash_offset\":{\"value\":0},\"line_join\":{\"value\":\"bevel\"},\"line_width\":{\"value\":1},\"x0\":{\"field\":\"x0\"},\"x1\":{\"field\":\"x1\"},\"y0\":{\"field\":\"y0\"},\"y1\":{\"field\":\"y1\"}},\"id\":\"1325\",\"type\":\"Segment\"},{\"attributes\":{\"source\":{\"id\":\"1305\"}},\"id\":\"1310\",\"type\":\"CDSView\"},{\"attributes\":{\"axis\":{\"id\":\"1271\"},\"grid_line_color\":null,\"ticker\":null},\"id\":\"1273\",\"type\":\"Grid\"},{\"attributes\":{},\"id\":\"1267\",\"type\":\"CategoricalScale\"},{\"attributes\":{\"data\":{\"x0\":[\"-10\",\"-9\",\"-8\",\"-7\",\"-6\",\"-5\",\"-4\",\"-3\",\"-2\",\"-1\",\"0\",\"1\",\"2\",\"3\",\"4\",\"5\",\"6\",\"7\",\"8\",\"9\",\"10\",\"11\",\"12\",\"13\",\"15\"],\"x1\":[\"-10\",\"-9\",\"-8\",\"-7\",\"-6\",\"-5\",\"-4\",\"-3\",\"-2\",\"-1\",\"0\",\"1\",\"2\",\"3\",\"4\",\"5\",\"6\",\"7\",\"8\",\"9\",\"10\",\"11\",\"12\",\"13\",\"15\"],\"y0\":[-6,6,25,4,12,22,21,19,14,31,22,30,31,32,27,33,9,35,34,34,30,35,22,40,58],\"y1\":{\"__ndarray__\":\"AAAAAAAAGMAAAAAAAAD8vwAAAAAAAAhAAAAAAAAABkAAAAAAAAAIQAAAAAAAAAxAAAAAAAAADkAAAAAAAAAQQAAAAAAAABxAAAAAAAAAHEAAAAAAAIAgQAAAAAAAACBAAAAAAACAI0AAAAAAAAAoQAAAAAAAACpAAAAAAAAAKEAAAAAAAAAUQAAAAAAAACpAAAAAAACAMUAAAAAAAAAuQAAAAAAAADFAAAAAAAAAMUAAAAAAAAAwQAAAAAAAADZAAAAAAAAAQUA=\",\"dtype\":\"float64\",\"order\":\"little\",\"shape\":[25]}},\"selected\":{\"id\":\"1341\"},\"selection_policy\":{\"id\":\"1342\"}},\"id\":\"1298\",\"type\":\"ColumnDataSource\"},{\"attributes\":{\"factors\":[\"-10\",\"-9\",\"-8\",\"-7\",\"-6\",\"-5\",\"-4\",\"-3\",\"-2\",\"-1\",\"0\",\"1\",\"2\",\"3\",\"4\",\"5\",\"6\",\"7\",\"8\",\"9\",\"10\",\"11\",\"12\",\"13\",\"15\"],\"tags\":[[[\"Seed_dff\",\"Seed_dff\",null]]]},\"id\":\"1259\",\"type\":\"FactorRange\"},{\"attributes\":{},\"id\":\"1335\",\"type\":\"CategoricalTickFormatter\"},{\"attributes\":{},\"id\":\"1275\",\"type\":\"BasicTicker\"},{\"attributes\":{},\"id\":\"1341\",\"type\":\"Selection\"},{\"attributes\":{},\"id\":\"1279\",\"type\":\"PanTool\"},{\"attributes\":{},\"id\":\"1269\",\"type\":\"LinearScale\"},{\"attributes\":{},\"id\":\"1350\",\"type\":\"UnionRenderers\"},{\"attributes\":{},\"id\":\"1345\",\"type\":\"Selection\"},{\"attributes\":{},\"id\":\"1280\",\"type\":\"WheelZoomTool\"},{\"attributes\":{},\"id\":\"1348\",\"type\":\"UnionRenderers\"},{\"attributes\":{\"data\":{\"x0\":[\"-10\",\"-9\",\"-8\",\"-7\",\"-6\",\"-5\",\"-4\",\"-3\",\"-2\",\"-1\",\"0\",\"1\",\"2\",\"3\",\"4\",\"5\",\"6\",\"7\",\"8\",\"9\",\"10\",\"11\",\"12\",\"13\",\"15\"],\"x1\":[\"-10\",\"-9\",\"-8\",\"-7\",\"-6\",\"-5\",\"-4\",\"-3\",\"-2\",\"-1\",\"0\",\"1\",\"2\",\"3\",\"4\",\"5\",\"6\",\"7\",\"8\",\"9\",\"10\",\"11\",\"12\",\"13\",\"15\"],\"y0\":[-6,-18,-32,-12,-20,-37,-26,-25,-37,-33,-18,-29,-25,-22,-17,-20,-10,-20,-13,-15,-10,-8,8,-5,1],\"y1\":{\"__ndarray__\":\"AAAAAAAAGMAAAAAAAIAowAAAAAAAgC3AAAAAAAAAG8AAAAAAAAAgwAAAAAAAACzAAAAAAAAAJMAAAAAAAAAiwAAAAAAAACzAAAAAAAAAJMAAAAAAAAAYwAAAAAAAABzAAAAAAACAI8AAAAAAAAAQwAAAAAAAAAAAAAAAAAAACMAAAAAAAADwvwAAAAAAAADAAAAAAAAAEEAAAAAAAAAAQAAAAAAAAADAAAAAAAAAE0AAAAAAAAAgQAAAAAAAACRAAAAAAAAALkA=\",\"dtype\":\"float64\",\"order\":\"little\",\"shape\":[25]}},\"selected\":{\"id\":\"1343\"},\"selection_policy\":{\"id\":\"1344\"}},\"id\":\"1305\",\"type\":\"ColumnDataSource\"},{\"attributes\":{\"data_source\":{\"id\":\"1326\"},\"glyph\":{\"id\":\"1328\"},\"hover_glyph\":null,\"muted_glyph\":null,\"nonselection_glyph\":{\"id\":\"1329\"},\"selection_glyph\":{\"id\":\"1354\"},\"view\":{\"id\":\"1331\"}},\"id\":\"1330\",\"type\":\"GlyphRenderer\"},{\"attributes\":{\"data_source\":{\"id\":\"1312\"},\"glyph\":{\"id\":\"1314\"},\"hover_glyph\":null,\"muted_glyph\":null,\"nonselection_glyph\":{\"id\":\"1315\"},\"selection_glyph\":{\"id\":\"1318\"},\"view\":{\"id\":\"1317\"}},\"id\":\"1316\",\"type\":\"GlyphRenderer\"},{\"attributes\":{\"axis_label\":\"Spread\",\"formatter\":{\"id\":\"1338\"},\"major_label_policy\":{\"id\":\"1336\"},\"ticker\":{\"id\":\"1275\"}},\"id\":\"1274\",\"type\":\"LinearAxis\"},{\"attributes\":{\"data_source\":{\"id\":\"1291\"},\"glyph\":{\"id\":\"1293\"},\"hover_glyph\":null,\"muted_glyph\":null,\"nonselection_glyph\":{\"id\":\"1294\"},\"selection_glyph\":{\"id\":\"1297\"},\"view\":{\"id\":\"1296\"}},\"id\":\"1295\",\"type\":\"GlyphRenderer\"},{\"attributes\":{},\"id\":\"1344\",\"type\":\"UnionRenderers\"},{\"attributes\":{},\"id\":\"1347\",\"type\":\"Selection\"},{\"attributes\":{\"bottom\":{\"field\":\"bottom\"},\"fill_color\":{\"value\":\"#30a2da\"},\"top\":{\"field\":\"top\"},\"width\":{\"value\":0.7},\"x\":{\"field\":\"index\"}},\"id\":\"1357\",\"type\":\"VBar\"},{\"attributes\":{},\"id\":\"1278\",\"type\":\"SaveTool\"},{\"attributes\":{},\"id\":\"1346\",\"type\":\"UnionRenderers\"},{\"attributes\":{\"items\":[]},\"id\":\"1352\",\"type\":\"Legend\"},{\"attributes\":{\"fill_color\":{\"value\":\"black\"},\"x\":{\"field\":\"index\"},\"y\":{\"field\":\"Spread\"}},\"id\":\"1293\",\"type\":\"Circle\"},{\"attributes\":{\"overlay\":{\"id\":\"1283\"}},\"id\":\"1281\",\"type\":\"BoxZoomTool\"},{\"attributes\":{\"line_alpha\":{\"value\":0.1},\"x0\":{\"field\":\"x0\"},\"x1\":{\"field\":\"x1\"},\"y0\":{\"field\":\"y0\"},\"y1\":{\"field\":\"y1\"}},\"id\":\"1308\",\"type\":\"Segment\"},{\"attributes\":{\"bottom\":{\"field\":\"bottom\"},\"fill_alpha\":{\"value\":1.0},\"fill_color\":{\"value\":\"#30a2da\"},\"hatch_alpha\":{\"value\":1.0},\"hatch_color\":{\"value\":\"black\"},\"hatch_scale\":{\"value\":12.0},\"hatch_weight\":{\"value\":1.0},\"line_alpha\":{\"value\":1.0},\"line_cap\":{\"value\":\"butt\"},\"line_color\":{\"value\":\"black\"},\"line_dash\":{\"value\":[]},\"line_dash_offset\":{\"value\":0},\"line_join\":{\"value\":\"bevel\"},\"line_width\":{\"value\":1},\"top\":{\"field\":\"top\"},\"width\":{\"value\":0.7},\"x\":{\"field\":\"index\"}},\"id\":\"1354\",\"type\":\"VBar\"},{\"attributes\":{\"x0\":{\"field\":\"x0\"},\"x1\":{\"field\":\"x1\"},\"y0\":{\"field\":\"y0\"},\"y1\":{\"field\":\"y1\"}},\"id\":\"1321\",\"type\":\"Segment\"}],\"root_ids\":[\"1257\"]},\"title\":\"Bokeh Application\",\"version\":\"2.3.0\"}};\n    var render_items = [{\"docid\":\"0b65e10b-e47f-462a-b8c3-a4ff3b85e9c5\",\"root_ids\":[\"1257\"],\"roots\":{\"1257\":\"0136a9fc-d166-4a7c-a8b9-f7b2a5148c41\"}}];\n    root.Bokeh.embed.embed_items_notebook(docs_json, render_items);\n  }\n  if (root.Bokeh !== undefined && root.Bokeh.Panel !== undefined) {\n    embed_document(root);\n  } else {\n    var attempts = 0;\n    var timer = setInterval(function(root) {\n      if (root.Bokeh !== undefined && root.Bokeh.Panel !== undefined) {\n        clearInterval(timer);\n        embed_document(root);\n      } else if (document.readyState == \"complete\") {\n        attempts++;\n        if (attempts > 100) {\n          clearInterval(timer);\n          console.log(\"Bokeh: ERROR: Unable to run BokehJS code because BokehJS library is missing\");\n        }\n      }\n    }, 10, root)\n  }\n})(window);</script>",
      "application/vnd.holoviews_exec.v0+json": "",
      "text/plain": [
       ":BoxWhisker   [Seed_dff]   (Spread)"
      ]
     },
     "metadata": {
      "application/vnd.holoviews_exec.v0+json": {
       "id": "1257"
      }
     },
     "execution_count": 8
    }
   ],
   "source": [
    "tourny.sort_values('Seed_dff').hvplot(kind='box', y='Spread', by='Seed_dff')"
   ]
  },
  {
   "cell_type": "code",
   "execution_count": 9,
   "metadata": {},
   "outputs": [
    {
     "output_type": "display_data",
     "data": {},
     "metadata": {}
    },
    {
     "output_type": "execute_result",
     "data": {
      "text/html": "<div id='1524'>\n\n\n\n\n\n  <div class=\"bk-root\" id=\"dd4e9a69-9304-480b-ab9e-c1664ba3c5d1\" data-root-id=\"1524\"></div>\n</div>\n<script type=\"application/javascript\">(function(root) {\n  function embed_document(root) {\n    var docs_json = {\"92409bbe-b175-48da-9272-f723047e54fc\":{\"defs\":[{\"extends\":null,\"module\":null,\"name\":\"DataModel\",\"overrides\":[],\"properties\":[]}],\"roots\":{\"references\":[{\"attributes\":{\"axis\":{\"id\":\"1543\"},\"dimension\":1,\"grid_line_color\":null,\"ticker\":null},\"id\":\"1546\",\"type\":\"Grid\"},{\"attributes\":{},\"id\":\"1544\",\"type\":\"BasicTicker\"},{\"attributes\":{\"axis_label\":\"Round\",\"formatter\":{\"id\":\"1563\"},\"major_label_policy\":{\"id\":\"1564\"},\"ticker\":{\"id\":\"1544\"}},\"id\":\"1543\",\"type\":\"LinearAxis\"},{\"attributes\":{\"margin\":[5,5,5,5],\"name\":\"HSpacer02723\",\"sizing_mode\":\"stretch_width\"},\"id\":\"1525\",\"type\":\"Spacer\"},{\"attributes\":{},\"id\":\"1548\",\"type\":\"PanTool\"},{\"attributes\":{},\"id\":\"1549\",\"type\":\"WheelZoomTool\"},{\"attributes\":{\"active_multi\":null,\"tools\":[{\"id\":\"1528\"},{\"id\":\"1547\"},{\"id\":\"1548\"},{\"id\":\"1549\"},{\"id\":\"1550\"},{\"id\":\"1551\"}]},\"id\":\"1553\",\"type\":\"Toolbar\"},{\"attributes\":{},\"id\":\"1564\",\"type\":\"AllLabels\"},{\"attributes\":{\"margin\":[5,5,5,5],\"name\":\"HSpacer02724\",\"sizing_mode\":\"stretch_width\"},\"id\":\"1717\",\"type\":\"Spacer\"},{\"attributes\":{},\"id\":\"1605\",\"type\":\"UnionRenderers\"},{\"attributes\":{},\"id\":\"1547\",\"type\":\"SaveTool\"},{\"attributes\":{\"axis_label\":\"Year\",\"formatter\":{\"id\":\"1560\"},\"major_label_policy\":{\"id\":\"1561\"},\"ticker\":{\"id\":\"1540\"}},\"id\":\"1539\",\"type\":\"LinearAxis\"},{\"attributes\":{\"overlay\":{\"id\":\"1552\"}},\"id\":\"1550\",\"type\":\"BoxZoomTool\"},{\"attributes\":{},\"id\":\"1551\",\"type\":\"ResetTool\"},{\"attributes\":{},\"id\":\"1563\",\"type\":\"BasicTickFormatter\"},{\"attributes\":{\"children\":[{\"id\":\"1525\"},{\"id\":\"1530\"},{\"id\":\"1717\"}],\"margin\":[0,0,0,0],\"name\":\"Row02719\",\"tags\":[\"embedded\"]},\"id\":\"1524\",\"type\":\"Row\"},{\"attributes\":{\"line_color\":\"#fc4f30\",\"line_width\":2,\"x\":{\"field\":\"Year\"},\"y\":{\"field\":\"Round\"}},\"id\":\"1590\",\"type\":\"Line\"},{\"attributes\":{},\"id\":\"1561\",\"type\":\"AllLabels\"},{\"attributes\":{\"data_source\":{\"id\":\"1566\"},\"glyph\":{\"id\":\"1569\"},\"hover_glyph\":null,\"muted_glyph\":{\"id\":\"1571\"},\"nonselection_glyph\":{\"id\":\"1570\"},\"selection_glyph\":{\"id\":\"1586\"},\"view\":{\"id\":\"1573\"}},\"id\":\"1572\",\"type\":\"GlyphRenderer\"},{\"attributes\":{\"line_alpha\":0.1,\"line_color\":\"#30a2da\",\"line_width\":2,\"x\":{\"field\":\"Year\"},\"y\":{\"field\":\"Round\"}},\"id\":\"1570\",\"type\":\"Line\"},{\"attributes\":{},\"id\":\"1582\",\"type\":\"UnionRenderers\"},{\"attributes\":{\"line_color\":\"#30a2da\",\"line_width\":2,\"x\":{\"field\":\"Year\"},\"y\":{\"field\":\"Round\"}},\"id\":\"1569\",\"type\":\"Line\"},{\"attributes\":{\"source\":{\"id\":\"1566\"}},\"id\":\"1573\",\"type\":\"CDSView\"},{\"attributes\":{\"end\":2019.0,\"reset_end\":2019.0,\"reset_start\":1985.0,\"start\":1985.0,\"tags\":[[[\"Year\",\"Year\",null]]]},\"id\":\"1526\",\"type\":\"Range1d\"},{\"attributes\":{\"line_color\":\"#30a2da\",\"line_width\":2,\"x\":{\"field\":\"Year\"},\"y\":{\"field\":\"Round\"}},\"id\":\"1586\",\"type\":\"Line\"},{\"attributes\":{\"label\":{\"value\":\"False\"},\"renderers\":[{\"id\":\"1572\"}]},\"id\":\"1585\",\"type\":\"LegendItem\"},{\"attributes\":{},\"id\":\"1560\",\"type\":\"BasicTickFormatter\"},{\"attributes\":{\"data\":{\"Round\":[18,19,18,17,21,20,16,14,12,19,15,15,17,18,24,19,21,18,22,17,20,22,14,16,17,21,22,18,22,25,15,23,17,21,24],\"Upset\":[true,true,true,true,true,true,true,true,true,true,true,true,true,true,true,true,true,true,true,true,true,true,true,true,true,true,true,true,true,true,true,true,true,true,true],\"Year\":[1985,1986,1987,1988,1989,1990,1991,1992,1993,1994,1995,1996,1997,1998,1999,2000,2001,2002,2003,2004,2005,2006,2007,2008,2009,2010,2011,2012,2013,2014,2015,2016,2017,2018,2019]},\"selected\":{\"id\":\"1588\"},\"selection_policy\":{\"id\":\"1605\"}},\"id\":\"1587\",\"type\":\"ColumnDataSource\"},{\"attributes\":{},\"id\":\"1588\",\"type\":\"Selection\"},{\"attributes\":{\"label\":{\"value\":\"True\"},\"renderers\":[{\"id\":\"1593\"}]},\"id\":\"1607\",\"type\":\"LegendItem\"},{\"attributes\":{\"line_alpha\":0.2,\"line_color\":\"#30a2da\",\"line_width\":2,\"x\":{\"field\":\"Year\"},\"y\":{\"field\":\"Round\"}},\"id\":\"1571\",\"type\":\"Line\"},{\"attributes\":{\"bottom_units\":\"screen\",\"fill_alpha\":0.5,\"fill_color\":\"lightgrey\",\"left_units\":\"screen\",\"level\":\"overlay\",\"line_alpha\":1.0,\"line_color\":\"black\",\"line_dash\":[4,4],\"line_width\":2,\"right_units\":\"screen\",\"syncable\":false,\"top_units\":\"screen\"},\"id\":\"1552\",\"type\":\"BoxAnnotation\"},{\"attributes\":{},\"id\":\"1567\",\"type\":\"Selection\"},{\"attributes\":{\"text_color\":\"black\",\"text_font_size\":\"12pt\"},\"id\":\"1531\",\"type\":\"Title\"},{\"attributes\":{\"line_color\":\"#fc4f30\",\"line_width\":2,\"x\":{\"field\":\"Year\"},\"y\":{\"field\":\"Round\"}},\"id\":\"1608\",\"type\":\"Line\"},{\"attributes\":{\"click_policy\":\"mute\",\"items\":[{\"id\":\"1585\"},{\"id\":\"1607\"}],\"location\":[0,0],\"title\":\"Upset\"},\"id\":\"1584\",\"type\":\"Legend\"},{\"attributes\":{},\"id\":\"1535\",\"type\":\"LinearScale\"},{\"attributes\":{\"data\":{\"Round\":[45,44,45,46,42,43,47,49,51,44,48,48,46,45,39,44,43,46,42,47,44,42,50,48,47,43,45,49,45,42,52,44,50,46,43],\"Upset\":[false,false,false,false,false,false,false,false,false,false,false,false,false,false,false,false,false,false,false,false,false,false,false,false,false,false,false,false,false,false,false,false,false,false,false],\"Year\":[1985,1986,1987,1988,1989,1990,1991,1992,1993,1994,1995,1996,1997,1998,1999,2000,2001,2002,2003,2004,2005,2006,2007,2008,2009,2010,2011,2012,2013,2014,2015,2016,2017,2018,2019]},\"selected\":{\"id\":\"1567\"},\"selection_policy\":{\"id\":\"1582\"}},\"id\":\"1566\",\"type\":\"ColumnDataSource\"},{\"attributes\":{\"line_alpha\":0.1,\"line_color\":\"#fc4f30\",\"line_width\":2,\"x\":{\"field\":\"Year\"},\"y\":{\"field\":\"Round\"}},\"id\":\"1591\",\"type\":\"Line\"},{\"attributes\":{\"callback\":null,\"renderers\":[{\"id\":\"1572\"},{\"id\":\"1593\"}],\"tags\":[\"hv_created\"],\"tooltips\":[[\"Upset\",\"@{Upset}\"],[\"Year\",\"@{Year}\"],[\"Round\",\"@{Round}\"]]},\"id\":\"1528\",\"type\":\"HoverTool\"},{\"attributes\":{\"below\":[{\"id\":\"1539\"}],\"center\":[{\"id\":\"1542\"},{\"id\":\"1546\"}],\"height\":300,\"left\":[{\"id\":\"1543\"}],\"margin\":[5,5,5,5],\"min_border_bottom\":10,\"min_border_left\":10,\"min_border_right\":10,\"min_border_top\":10,\"renderers\":[{\"id\":\"1572\"},{\"id\":\"1593\"}],\"right\":[{\"id\":\"1584\"}],\"sizing_mode\":\"fixed\",\"title\":{\"id\":\"1531\"},\"toolbar\":{\"id\":\"1553\"},\"width\":700,\"x_range\":{\"id\":\"1526\"},\"x_scale\":{\"id\":\"1535\"},\"y_range\":{\"id\":\"1527\"},\"y_scale\":{\"id\":\"1537\"}},\"id\":\"1530\",\"subtype\":\"Figure\",\"type\":\"Plot\"},{\"attributes\":{\"data_source\":{\"id\":\"1587\"},\"glyph\":{\"id\":\"1590\"},\"hover_glyph\":null,\"muted_glyph\":{\"id\":\"1592\"},\"nonselection_glyph\":{\"id\":\"1591\"},\"selection_glyph\":{\"id\":\"1608\"},\"view\":{\"id\":\"1594\"}},\"id\":\"1593\",\"type\":\"GlyphRenderer\"},{\"attributes\":{\"end\":56.0,\"reset_end\":56.0,\"reset_start\":8.0,\"start\":8.0,\"tags\":[[[\"Round\",\"Round\",null]]]},\"id\":\"1527\",\"type\":\"Range1d\"},{\"attributes\":{\"source\":{\"id\":\"1587\"}},\"id\":\"1594\",\"type\":\"CDSView\"},{\"attributes\":{},\"id\":\"1540\",\"type\":\"BasicTicker\"},{\"attributes\":{},\"id\":\"1537\",\"type\":\"LinearScale\"},{\"attributes\":{\"axis\":{\"id\":\"1539\"},\"grid_line_color\":null,\"ticker\":null},\"id\":\"1542\",\"type\":\"Grid\"},{\"attributes\":{\"line_alpha\":0.2,\"line_color\":\"#fc4f30\",\"line_width\":2,\"x\":{\"field\":\"Year\"},\"y\":{\"field\":\"Round\"}},\"id\":\"1592\",\"type\":\"Line\"}],\"root_ids\":[\"1524\"]},\"title\":\"Bokeh Application\",\"version\":\"2.3.0\"}};\n    var render_items = [{\"docid\":\"92409bbe-b175-48da-9272-f723047e54fc\",\"root_ids\":[\"1524\"],\"roots\":{\"1524\":\"dd4e9a69-9304-480b-ab9e-c1664ba3c5d1\"}}];\n    root.Bokeh.embed.embed_items_notebook(docs_json, render_items);\n  }\n  if (root.Bokeh !== undefined && root.Bokeh.Panel !== undefined) {\n    embed_document(root);\n  } else {\n    var attempts = 0;\n    var timer = setInterval(function(root) {\n      if (root.Bokeh !== undefined && root.Bokeh.Panel !== undefined) {\n        clearInterval(timer);\n        embed_document(root);\n      } else if (document.readyState == \"complete\") {\n        attempts++;\n        if (attempts > 100) {\n          clearInterval(timer);\n          console.log(\"Bokeh: ERROR: Unable to run BokehJS code because BokehJS library is missing\");\n        }\n      }\n    }, 10, root)\n  }\n})(window);</script>",
      "application/vnd.holoviews_exec.v0+json": "",
      "text/plain": [
       ":NdOverlay   [Upset]\n",
       "   :Curve   [Year]   (Round)"
      ]
     },
     "metadata": {
      "application/vnd.holoviews_exec.v0+json": {
       "id": "1524"
      }
     },
     "execution_count": 9
    }
   ],
   "source": [
    "tourny.groupby([\"Year\", 'Upset']).agg({'Round':'count'}).reset_index()[['Year', 'Upset','Round']].hvplot(x='Year',y='Round',by='Upset')"
   ]
  },
  {
   "cell_type": "code",
   "execution_count": 11,
   "metadata": {},
   "outputs": [],
   "source": [
    "url = r'''https://apps.washingtonpost.com/sports/search/?pri_school_id=&pri_conference=&pri_coach=&pri_seed_from=1&pri_seed_to=16&pri_power_conference=&pri_bid_type=&opp_school_id=&opp_conference=&opp_coach=&opp_seed_from=1&opp_seed_to=16&opp_power_conference=&opp_bid_type=&game_type=7&from=1985&to=2020&submit='''     \n",
    "df = pd.read_html(url)[0] # should be first table\n",
    "df.columns = [col.replace('.', \"_\") for col in df.columns]\n",
    "for col in df.select_dtypes(include=\"object\").columns:\n",
    "    df[col] = df[col].apply(lambda x: x[0:int(len(x)/2)].strip())\n",
    "\n"
   ]
  },
  {
   "cell_type": "code",
   "execution_count": 12,
   "metadata": {},
   "outputs": [
    {
     "output_type": "execute_result",
     "data": {
      "text/plain": [
       "      Year                  Round  Seed            Team  Score  Seed_1  \\\n",
       "0     2019  National Championship     1        Virginia     85       3   \n",
       "1     2019             Final Four     1        Virginia     63       4   \n",
       "2     2019             Final Four     2  Michigan State     51       3   \n",
       "3     2019            Elite Eight     1         Gonzaga     69       3   \n",
       "4     2019            Elite Eight     1        Virginia     80       3   \n",
       "...    ...                    ...   ...             ...    ...     ...   \n",
       "2246  1985            First Round     4            UNLV     85      13   \n",
       "2247  1985            First Round     8          Temple     60       9   \n",
       "2248  1985            First Round     1      St. John's     83      16   \n",
       "2249  1985            First Round     3          Kansas     49      14   \n",
       "2250  1985            First Round     8            Iowa     54       9   \n",
       "\n",
       "               Team_1  Score_1  \n",
       "0          Texas Tech       77  \n",
       "1              Auburn       62  \n",
       "2          Texas Tech       61  \n",
       "3          Texas Tech       75  \n",
       "4              Purdue       75  \n",
       "...               ...      ...  \n",
       "2246  San Diego State       80  \n",
       "2247    Virginia Tech       57  \n",
       "2248         Southern       59  \n",
       "2249             Ohio       38  \n",
       "2250         Arkansas       63  \n",
       "\n",
       "[2251 rows x 8 columns]"
      ],
      "text/html": "<div>\n<style scoped>\n    .dataframe tbody tr th:only-of-type {\n        vertical-align: middle;\n    }\n\n    .dataframe tbody tr th {\n        vertical-align: top;\n    }\n\n    .dataframe thead th {\n        text-align: right;\n    }\n</style>\n<table border=\"1\" class=\"dataframe\">\n  <thead>\n    <tr style=\"text-align: right;\">\n      <th></th>\n      <th>Year</th>\n      <th>Round</th>\n      <th>Seed</th>\n      <th>Team</th>\n      <th>Score</th>\n      <th>Seed_1</th>\n      <th>Team_1</th>\n      <th>Score_1</th>\n    </tr>\n  </thead>\n  <tbody>\n    <tr>\n      <th>0</th>\n      <td>2019</td>\n      <td>National Championship</td>\n      <td>1</td>\n      <td>Virginia</td>\n      <td>85</td>\n      <td>3</td>\n      <td>Texas Tech</td>\n      <td>77</td>\n    </tr>\n    <tr>\n      <th>1</th>\n      <td>2019</td>\n      <td>Final Four</td>\n      <td>1</td>\n      <td>Virginia</td>\n      <td>63</td>\n      <td>4</td>\n      <td>Auburn</td>\n      <td>62</td>\n    </tr>\n    <tr>\n      <th>2</th>\n      <td>2019</td>\n      <td>Final Four</td>\n      <td>2</td>\n      <td>Michigan State</td>\n      <td>51</td>\n      <td>3</td>\n      <td>Texas Tech</td>\n      <td>61</td>\n    </tr>\n    <tr>\n      <th>3</th>\n      <td>2019</td>\n      <td>Elite Eight</td>\n      <td>1</td>\n      <td>Gonzaga</td>\n      <td>69</td>\n      <td>3</td>\n      <td>Texas Tech</td>\n      <td>75</td>\n    </tr>\n    <tr>\n      <th>4</th>\n      <td>2019</td>\n      <td>Elite Eight</td>\n      <td>1</td>\n      <td>Virginia</td>\n      <td>80</td>\n      <td>3</td>\n      <td>Purdue</td>\n      <td>75</td>\n    </tr>\n    <tr>\n      <th>...</th>\n      <td>...</td>\n      <td>...</td>\n      <td>...</td>\n      <td>...</td>\n      <td>...</td>\n      <td>...</td>\n      <td>...</td>\n      <td>...</td>\n    </tr>\n    <tr>\n      <th>2246</th>\n      <td>1985</td>\n      <td>First Round</td>\n      <td>4</td>\n      <td>UNLV</td>\n      <td>85</td>\n      <td>13</td>\n      <td>San Diego State</td>\n      <td>80</td>\n    </tr>\n    <tr>\n      <th>2247</th>\n      <td>1985</td>\n      <td>First Round</td>\n      <td>8</td>\n      <td>Temple</td>\n      <td>60</td>\n      <td>9</td>\n      <td>Virginia Tech</td>\n      <td>57</td>\n    </tr>\n    <tr>\n      <th>2248</th>\n      <td>1985</td>\n      <td>First Round</td>\n      <td>1</td>\n      <td>St. John's</td>\n      <td>83</td>\n      <td>16</td>\n      <td>Southern</td>\n      <td>59</td>\n    </tr>\n    <tr>\n      <th>2249</th>\n      <td>1985</td>\n      <td>First Round</td>\n      <td>3</td>\n      <td>Kansas</td>\n      <td>49</td>\n      <td>14</td>\n      <td>Ohio</td>\n      <td>38</td>\n    </tr>\n    <tr>\n      <th>2250</th>\n      <td>1985</td>\n      <td>First Round</td>\n      <td>8</td>\n      <td>Iowa</td>\n      <td>54</td>\n      <td>9</td>\n      <td>Arkansas</td>\n      <td>63</td>\n    </tr>\n  </tbody>\n</table>\n<p>2251 rows × 8 columns</p>\n</div>"
     },
     "metadata": {},
     "execution_count": 12
    }
   ],
   "source": [
    "df"
   ]
  },
  {
   "cell_type": "code",
   "execution_count": 23,
   "metadata": {},
   "outputs": [
    {
     "output_type": "execute_result",
     "data": {
      "text/plain": [
       "      Year                  Round  Seed            Team  Score  Seed_1  \\\n",
       "0     2019  National Championship     1        Virginia     85       3   \n",
       "1     2019             Final Four     1        Virginia     63       4   \n",
       "2     2019             Final Four     2  Michigan State     51       3   \n",
       "3     2019            Elite Eight     1         Gonzaga     69       3   \n",
       "4     2019            Elite Eight     1        Virginia     80       3   \n",
       "...    ...                    ...   ...             ...    ...     ...   \n",
       "2246  1985            First Round     4            UNLV     85      13   \n",
       "2247  1985            First Round     8          Temple     60       9   \n",
       "2248  1985            First Round     1      St. John's     83      16   \n",
       "2249  1985            First Round     3          Kansas     49      14   \n",
       "2250  1985            First Round     8            Iowa     54       9   \n",
       "\n",
       "               Team_1  Score_1  Spread  Winner  Seed_dff Favorite  Upset  \n",
       "0          Texas Tech       77       8  TEAM_2         2   TEAM_2  False  \n",
       "1              Auburn       62       1  TEAM_2         3   TEAM_2  False  \n",
       "2          Texas Tech       61     -10  TEAM_1         1   TEAM_2   True  \n",
       "3          Texas Tech       75      -6  TEAM_1         2   TEAM_2   True  \n",
       "4              Purdue       75       5  TEAM_2         2   TEAM_2  False  \n",
       "...               ...      ...     ...     ...       ...      ...    ...  \n",
       "2246  San Diego State       80       5  TEAM_2         9   TEAM_2  False  \n",
       "2247    Virginia Tech       57       3  TEAM_2         1   TEAM_2  False  \n",
       "2248         Southern       59      24  TEAM_2        15   TEAM_2  False  \n",
       "2249             Ohio       38      11  TEAM_2        11   TEAM_2  False  \n",
       "2250         Arkansas       63      -9  TEAM_1         1   TEAM_2   True  \n",
       "\n",
       "[2251 rows x 13 columns]"
      ],
      "text/html": "<div>\n<style scoped>\n    .dataframe tbody tr th:only-of-type {\n        vertical-align: middle;\n    }\n\n    .dataframe tbody tr th {\n        vertical-align: top;\n    }\n\n    .dataframe thead th {\n        text-align: right;\n    }\n</style>\n<table border=\"1\" class=\"dataframe\">\n  <thead>\n    <tr style=\"text-align: right;\">\n      <th></th>\n      <th>Year</th>\n      <th>Round</th>\n      <th>Seed</th>\n      <th>Team</th>\n      <th>Score</th>\n      <th>Seed_1</th>\n      <th>Team_1</th>\n      <th>Score_1</th>\n      <th>Spread</th>\n      <th>Winner</th>\n      <th>Seed_dff</th>\n      <th>Favorite</th>\n      <th>Upset</th>\n    </tr>\n  </thead>\n  <tbody>\n    <tr>\n      <th>0</th>\n      <td>2019</td>\n      <td>National Championship</td>\n      <td>1</td>\n      <td>Virginia</td>\n      <td>85</td>\n      <td>3</td>\n      <td>Texas Tech</td>\n      <td>77</td>\n      <td>8</td>\n      <td>TEAM_2</td>\n      <td>2</td>\n      <td>TEAM_2</td>\n      <td>False</td>\n    </tr>\n    <tr>\n      <th>1</th>\n      <td>2019</td>\n      <td>Final Four</td>\n      <td>1</td>\n      <td>Virginia</td>\n      <td>63</td>\n      <td>4</td>\n      <td>Auburn</td>\n      <td>62</td>\n      <td>1</td>\n      <td>TEAM_2</td>\n      <td>3</td>\n      <td>TEAM_2</td>\n      <td>False</td>\n    </tr>\n    <tr>\n      <th>2</th>\n      <td>2019</td>\n      <td>Final Four</td>\n      <td>2</td>\n      <td>Michigan State</td>\n      <td>51</td>\n      <td>3</td>\n      <td>Texas Tech</td>\n      <td>61</td>\n      <td>-10</td>\n      <td>TEAM_1</td>\n      <td>1</td>\n      <td>TEAM_2</td>\n      <td>True</td>\n    </tr>\n    <tr>\n      <th>3</th>\n      <td>2019</td>\n      <td>Elite Eight</td>\n      <td>1</td>\n      <td>Gonzaga</td>\n      <td>69</td>\n      <td>3</td>\n      <td>Texas Tech</td>\n      <td>75</td>\n      <td>-6</td>\n      <td>TEAM_1</td>\n      <td>2</td>\n      <td>TEAM_2</td>\n      <td>True</td>\n    </tr>\n    <tr>\n      <th>4</th>\n      <td>2019</td>\n      <td>Elite Eight</td>\n      <td>1</td>\n      <td>Virginia</td>\n      <td>80</td>\n      <td>3</td>\n      <td>Purdue</td>\n      <td>75</td>\n      <td>5</td>\n      <td>TEAM_2</td>\n      <td>2</td>\n      <td>TEAM_2</td>\n      <td>False</td>\n    </tr>\n    <tr>\n      <th>...</th>\n      <td>...</td>\n      <td>...</td>\n      <td>...</td>\n      <td>...</td>\n      <td>...</td>\n      <td>...</td>\n      <td>...</td>\n      <td>...</td>\n      <td>...</td>\n      <td>...</td>\n      <td>...</td>\n      <td>...</td>\n      <td>...</td>\n    </tr>\n    <tr>\n      <th>2246</th>\n      <td>1985</td>\n      <td>First Round</td>\n      <td>4</td>\n      <td>UNLV</td>\n      <td>85</td>\n      <td>13</td>\n      <td>San Diego State</td>\n      <td>80</td>\n      <td>5</td>\n      <td>TEAM_2</td>\n      <td>9</td>\n      <td>TEAM_2</td>\n      <td>False</td>\n    </tr>\n    <tr>\n      <th>2247</th>\n      <td>1985</td>\n      <td>First Round</td>\n      <td>8</td>\n      <td>Temple</td>\n      <td>60</td>\n      <td>9</td>\n      <td>Virginia Tech</td>\n      <td>57</td>\n      <td>3</td>\n      <td>TEAM_2</td>\n      <td>1</td>\n      <td>TEAM_2</td>\n      <td>False</td>\n    </tr>\n    <tr>\n      <th>2248</th>\n      <td>1985</td>\n      <td>First Round</td>\n      <td>1</td>\n      <td>St. John's</td>\n      <td>83</td>\n      <td>16</td>\n      <td>Southern</td>\n      <td>59</td>\n      <td>24</td>\n      <td>TEAM_2</td>\n      <td>15</td>\n      <td>TEAM_2</td>\n      <td>False</td>\n    </tr>\n    <tr>\n      <th>2249</th>\n      <td>1985</td>\n      <td>First Round</td>\n      <td>3</td>\n      <td>Kansas</td>\n      <td>49</td>\n      <td>14</td>\n      <td>Ohio</td>\n      <td>38</td>\n      <td>11</td>\n      <td>TEAM_2</td>\n      <td>11</td>\n      <td>TEAM_2</td>\n      <td>False</td>\n    </tr>\n    <tr>\n      <th>2250</th>\n      <td>1985</td>\n      <td>First Round</td>\n      <td>8</td>\n      <td>Iowa</td>\n      <td>54</td>\n      <td>9</td>\n      <td>Arkansas</td>\n      <td>63</td>\n      <td>-9</td>\n      <td>TEAM_1</td>\n      <td>1</td>\n      <td>TEAM_2</td>\n      <td>True</td>\n    </tr>\n  </tbody>\n</table>\n<p>2251 rows × 13 columns</p>\n</div>"
     },
     "metadata": {},
     "execution_count": 23
    }
   ],
   "source": [
    "#df['Winner'] = df.apply(lambda x: \"Team\" if x['Score'] > x['Score_1'] else \"Team_1\" )\n",
    "df['Favorite'] = np.where(\n",
    "    df['Seed_1'] == df['Seed'],\n",
    "        \"EQUAL\",\n",
    "        np.where(\n",
    "            df['Seed_1'] > df['Seed'],\n",
    "            \"TEAM_2\",\n",
    "            \"TEAM_1\"))\n",
    "df['Seed_dff'] =  df['Seed_1'] - df['Seed']\n",
    "df['Spread'] = df['Score'] - df['Score_1']\n",
    "df['Winner'] = np.where(df['Spread'] >0 ,\"TEAM_2\",\"TEAM_1\")\n",
    "df['Upset'] = df.Winner != df.Favorite\n",
    "for col in df.select_dtypes(include='object').columns:\n",
    "    df[col] = df[col].astype('category')\n",
    "df\n"
   ]
  },
  {
   "cell_type": "code",
   "execution_count": null,
   "metadata": {},
   "outputs": [],
   "source": []
  }
 ]
}